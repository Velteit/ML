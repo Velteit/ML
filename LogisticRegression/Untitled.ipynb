{
 "cells": [
  {
   "cell_type": "code",
   "execution_count": 1,
   "metadata": {},
   "outputs": [],
   "source": [
    "#load \"Paket.fsx\"\n",
    "Paket.Package [\n",
    "    \"FsLab\"\n",
    "]\n",
    "#load \"Paket.Generated.Refs.fsx\""
   ]
  },
  {
   "cell_type": "code",
   "execution_count": 2,
   "metadata": {},
   "outputs": [
    {
     "data": {
      "text/plain": [
       "\"/home/blackcat/Workspace/DataScience/LogisticRegression\""
      ]
     },
     "execution_count": 2,
     "metadata": {},
     "output_type": "execute_result"
    }
   ],
   "source": [
    "open System\n",
    "\n",
    "let combine (a: string seq) = System.IO.Path.Combine(a |> Seq.toArray)\n",
    "let path = Environment.CurrentDirectory\n",
    "path"
   ]
  },
  {
   "cell_type": "code",
   "execution_count": 3,
   "metadata": {},
   "outputs": [],
   "source": [
    "open FSharp.Data\n",
    "open FSharp.Data.CsvExtensions\n",
    "open MathNet.Numerics.LinearAlgebra\n",
    "\n",
    "//returns a sequence of array, first index is a pixel array, second index is a one item label array\n",
    "\n",
    "//extract and split parsed value from csv to train/test x matrix and y vector\n",
    "let loadDataset (input: CsvFile) =\n",
    "    let parseCsv (x: CsvFile) =\n",
    "        [|for row in x.Rows ->\n",
    "                let rowValues = \n",
    "                    row.Columns\n",
    "                    |> Seq.map float\n",
    "                    |> Seq.toArray\n",
    "\n",
    "                let pixelsValues = rowValues.[1..]\n",
    "                let labelValues = rowValues.[0]\n",
    "                (labelValues, pixelsValues)|]\n",
    "    let extractY (input: (float*float[]) []) =  \n",
    "        input\n",
    "        |> Array.map fst\n",
    "    let extractX (input: (float*float[]) []) =\n",
    "        input \n",
    "        |> Array.map snd\n",
    "\n",
    "    let parsedRows = parseCsv input\n",
    "    \n",
    "                \n",
    "    let x = extractX parsedRows |> DenseMatrix.ofColumnArrays\n",
    "    let y = extractY parsedRows |> DenseVector.ofArray\n",
    "    \n",
    "    \n",
    "    x, y\n",
    "let shape = fun (matrix:Matrix<float>) -> matrix.RowCount, matrix.ColumnCount\n",
    "\n",
    "//building our datasets\n",
    "let train = CsvFile.Load(combine [path; \"datasets\"; \"train.csv\"], \",\", ''', false, true, 0)\n",
    "let test =  CsvFile.Load(combine [path; \"datasets\"; \"test.csv\"], \",\", ''', false, true, 0)\n",
    "\n",
    "\n",
    "let trainX, trainY = loadDataset train\n",
    "let testX, testY = loadDataset test"
   ]
  },
  {
   "cell_type": "code",
   "execution_count": 4,
   "metadata": {},
   "outputs": [],
   "source": [
    "open System.Drawing\n",
    "\n",
    "let showPicture (matrix: Matrix<float>) (index: int) (filename: string) =\n",
    "    let pixelVector = matrix.Column(index)\n",
    "    use bitmap = new Bitmap(64, 64)\n",
    "\n",
    "    for y in 0..64 do\n",
    "        for x in 0..64 do\n",
    "            let vi = (y + 3)*(x)\n",
    "            let color = \n",
    "                Color.FromArgb(\n",
    "                    int pixelVector.[vi],\n",
    "                    int pixelVector.[vi + 1],\n",
    "                    int pixelVector.[vi + 2]\n",
    "                )\n",
    "            bitmap.SetPixel(x, y, color)\n",
    "        \n",
    "    bitmap.Save(combine [path; \"images\"; filename])\n",
    "    \n",
    "    combine [\"images\"; filename]\n",
    "    |> sprintf \"<img src='%s' style='width:128;height:128;'>\"\n",
    "    |> Util.Html\n",
    "    |> Display"
   ]
  },
  {
   "cell_type": "code",
   "execution_count": null,
   "metadata": {},
   "outputs": [],
   "source": [
    "showPicture trainX 25 \"cat_25.bmp\""
   ]
  },
  {
   "cell_type": "code",
   "execution_count": 1,
   "metadata": {},
   "outputs": [
    {
     "name": "stderr",
     "output_type": "stream",
     "text": [
      "The type 'Matrix' is not defined.\n",
      "The value, namespace, type or module 'Matrix' is not defined. Maybe you want one of the following:\n",
      "   matrix"
     ]
    }
   ],
   "source": [
    "let normalize (matrix: Matrix<float>) =\n",
    "    matrix |> Matrix.map(fun v -> v / (255.))"
   ]
  },
  {
   "cell_type": "code",
   "execution_count": 2,
   "metadata": {},
   "outputs": [
    {
     "name": "stderr",
     "output_type": "stream",
     "text": [
      "The value or constructor 'normalize' is not defined."
     ]
    }
   ],
   "source": [
    "let normalizedX = normalize trainX"
   ]
  },
  {
   "cell_type": "code",
   "execution_count": 3,
   "metadata": {},
   "outputs": [
    {
     "name": "stderr",
     "output_type": "stream",
     "text": [
      "The value or constructor 'showPicture' is not defined."
     ]
    }
   ],
   "source": [
    "showPicture normalizedX 25 \"cat_25.bmp\""
   ]
  },
  {
   "cell_type": "code",
   "execution_count": null,
   "metadata": {},
   "outputs": [],
   "source": []
  },
  {
   "cell_type": "code",
   "execution_count": null,
   "metadata": {},
   "outputs": [],
   "source": []
  }
 ],
 "metadata": {
  "kernelspec": {
   "display_name": "F#",
   "language": "fsharp",
   "name": "ifsharp"
  },
  "language_info": {
   "codemirror_mode": "",
   "file_extension": ".fs",
   "mimetype": "text/x-fsharp",
   "name": "fsharp",
   "nbconvert_exporter": "",
   "pygments_lexer": "",
   "version": "4.3.1.0"
  }
 },
 "nbformat": 4,
 "nbformat_minor": 2
}
